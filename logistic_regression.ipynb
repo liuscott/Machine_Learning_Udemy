{
 "cells": [
  {
   "cell_type": "markdown",
   "metadata": {},
   "source": [
    "# Logistic Regression"
   ]
  },
  {
   "cell_type": "markdown",
   "metadata": {},
   "source": [
    "目標\n",
    "* 將資料分為training data和testing data\n",
    "* 建置Logistic Model\n",
    "* 使用混淆矩陣\n",
    "* 畫出Decision Boundary"
   ]
  },
  {
   "cell_type": "markdown",
   "metadata": {},
   "source": [
    "### 載入套件"
   ]
  },
  {
   "cell_type": "code",
   "execution_count": 1,
   "metadata": {
    "collapsed": true
   },
   "outputs": [],
   "source": [
    "import numpy as np\n",
    "import matplotlib.pyplot as plt\n",
    "import pandas as pd\n",
    "import os"
   ]
  },
  {
   "cell_type": "markdown",
   "metadata": {},
   "source": [
    "### 修改當下檔案開啟目錄"
   ]
  },
  {
   "cell_type": "code",
   "execution_count": 2,
   "metadata": {
    "collapsed": true
   },
   "outputs": [],
   "source": [
    "os.chdir(\"/Users/liouscott/Documents/scott/machine learning/Machine Learning A-Z Template Folder/Part 3 - Classification/Section 14 - Logistic Regression/Logistic_Regression\")"
   ]
  },
  {
   "cell_type": "markdown",
   "metadata": {},
   "source": [
    "### 載入資料"
   ]
  },
  {
   "cell_type": "code",
   "execution_count": 3,
   "metadata": {},
   "outputs": [
    {
     "name": "stdout",
     "output_type": "stream",
     "text": [
      "    User ID  Gender  Age  EstimatedSalary  Purchased\n",
      "0  15624510    Male   19            19000          0\n",
      "1  15810944    Male   35            20000          0\n",
      "2  15668575  Female   26            43000          0\n",
      "3  15603246  Female   27            57000          0\n",
      "4  15804002    Male   19            76000          0\n"
     ]
    }
   ],
   "source": [
    "dataset = pd.read_csv('Social_Network_Ads.csv')\n",
    "X = dataset.iloc[:, [2, 3]].values\n",
    "y = dataset.iloc[:, 4].values\n",
    "print (dataset.head())"
   ]
  },
  {
   "cell_type": "markdown",
   "metadata": {},
   "source": [
    "### 切割train data和test data"
   ]
  },
  {
   "cell_type": "code",
   "execution_count": 4,
   "metadata": {},
   "outputs": [
    {
     "name": "stderr",
     "output_type": "stream",
     "text": [
      "/Users/liouscott/anaconda/lib/python3.6/site-packages/sklearn/cross_validation.py:44: DeprecationWarning: This module was deprecated in version 0.18 in favor of the model_selection module into which all the refactored classes and functions are moved. Also note that the interface of the new CV iterators are different from that of this module. This module will be removed in 0.20.\n",
      "  \"This module will be removed in 0.20.\", DeprecationWarning)\n"
     ]
    }
   ],
   "source": [
    "from sklearn.cross_validation import train_test_split\n",
    "X_train, X_test, y_train, y_test = train_test_split(X, y, test_size = 0.25, random_state = 0)"
   ]
  },
  {
   "cell_type": "markdown",
   "metadata": {},
   "source": [
    "### 將資料做標準化"
   ]
  },
  {
   "cell_type": "code",
   "execution_count": 5,
   "metadata": {},
   "outputs": [
    {
     "name": "stderr",
     "output_type": "stream",
     "text": [
      "/Users/liouscott/anaconda/lib/python3.6/site-packages/sklearn/utils/validation.py:429: DataConversionWarning: Data with input dtype int64 was converted to float64 by StandardScaler.\n",
      "  warnings.warn(msg, _DataConversionWarning)\n"
     ]
    }
   ],
   "source": [
    "from sklearn.preprocessing import StandardScaler\n",
    "sc = StandardScaler()\n",
    "X_train = sc.fit_transform(X_train)\n",
    "X_test = sc.transform(X_test)"
   ]
  },
  {
   "cell_type": "markdown",
   "metadata": {},
   "source": [
    "### 建置Logistic Model"
   ]
  },
  {
   "cell_type": "code",
   "execution_count": 6,
   "metadata": {},
   "outputs": [
    {
     "data": {
      "text/plain": [
       "LogisticRegression(C=1.0, class_weight=None, dual=False, fit_intercept=True,\n",
       "          intercept_scaling=1, max_iter=100, multi_class='ovr', n_jobs=1,\n",
       "          penalty='l2', random_state=0, solver='liblinear', tol=0.0001,\n",
       "          verbose=0, warm_start=False)"
      ]
     },
     "execution_count": 6,
     "metadata": {},
     "output_type": "execute_result"
    }
   ],
   "source": [
    "from sklearn.linear_model import LogisticRegression\n",
    "classifier = LogisticRegression(random_state = 0)\n",
    "classifier.fit(X_train, y_train)"
   ]
  },
  {
   "cell_type": "markdown",
   "metadata": {},
   "source": [
    "### 將test data放入估計完成的Logistic Model"
   ]
  },
  {
   "cell_type": "code",
   "execution_count": 7,
   "metadata": {
    "collapsed": true
   },
   "outputs": [],
   "source": [
    "y_pred = classifier.predict(X_test)"
   ]
  },
  {
   "cell_type": "markdown",
   "metadata": {},
   "source": [
    "### 使用混淆矩陣檢視預測力"
   ]
  },
  {
   "cell_type": "code",
   "execution_count": 8,
   "metadata": {},
   "outputs": [
    {
     "name": "stdout",
     "output_type": "stream",
     "text": [
      "[[65  3]\n",
      " [ 8 24]]\n"
     ]
    }
   ],
   "source": [
    "from sklearn.metrics import confusion_matrix\n",
    "cm = confusion_matrix(y_test, y_pred)\n",
    "print (cm)"
   ]
  },
  {
   "cell_type": "markdown",
   "metadata": {},
   "source": [
    "### 開始繪製Decision Boundary"
   ]
  },
  {
   "cell_type": "markdown",
   "metadata": {},
   "source": [
    "### 此次匯入的 ListedColormap 套件，是給定分群的顏色。"
   ]
  },
  {
   "cell_type": "code",
   "execution_count": 9,
   "metadata": {
    "collapsed": true
   },
   "outputs": [],
   "source": [
    "from matplotlib.colors import ListedColormap"
   ]
  },
  {
   "cell_type": "code",
   "execution_count": 10,
   "metadata": {
    "collapsed": true
   },
   "outputs": [],
   "source": [
    "X_set, y_set = X_train, y_train"
   ]
  },
  {
   "cell_type": "markdown",
   "metadata": {},
   "source": [
    "#### 1.首先界Age變數的範圍，使用函數為np.arange。\n",
    "   * start : 起始值\n",
    "   * stop : 終止值\n",
    "   * step : 每一步增加的範圍"
   ]
  },
  {
   "cell_type": "code",
   "execution_count": 11,
   "metadata": {},
   "outputs": [
    {
     "data": {
      "text/plain": [
       "-2.9931891594584856"
      ]
     },
     "execution_count": 11,
     "metadata": {},
     "output_type": "execute_result"
    }
   ],
   "source": [
    "X_set[:, 0].min() - 1"
   ]
  },
  {
   "cell_type": "code",
   "execution_count": 12,
   "metadata": {},
   "outputs": [
    {
     "data": {
      "text/plain": [
       "3.1661654959202692"
      ]
     },
     "execution_count": 12,
     "metadata": {},
     "output_type": "execute_result"
    }
   ],
   "source": [
    "X_set[:, 0].max() + 1"
   ]
  },
  {
   "cell_type": "code",
   "execution_count": 13,
   "metadata": {},
   "outputs": [
    {
     "name": "stdout",
     "output_type": "stream",
     "text": [
      "[-2.99318916 -2.98318916 -2.97318916 -2.96318916 -2.95318916 -2.94318916\n",
      " -2.93318916 -2.92318916 -2.91318916 -2.90318916 -2.89318916 -2.88318916\n",
      " -2.87318916 -2.86318916 -2.85318916 -2.84318916 -2.83318916 -2.82318916\n",
      " -2.81318916 -2.80318916 -2.79318916 -2.78318916 -2.77318916 -2.76318916\n",
      " -2.75318916 -2.74318916 -2.73318916 -2.72318916 -2.71318916 -2.70318916\n",
      " -2.69318916 -2.68318916 -2.67318916 -2.66318916 -2.65318916 -2.64318916\n",
      " -2.63318916 -2.62318916 -2.61318916 -2.60318916 -2.59318916 -2.58318916\n",
      " -2.57318916 -2.56318916 -2.55318916 -2.54318916 -2.53318916 -2.52318916\n",
      " -2.51318916 -2.50318916 -2.49318916 -2.48318916 -2.47318916 -2.46318916\n",
      " -2.45318916 -2.44318916 -2.43318916 -2.42318916 -2.41318916 -2.40318916\n",
      " -2.39318916 -2.38318916 -2.37318916 -2.36318916 -2.35318916 -2.34318916\n",
      " -2.33318916 -2.32318916 -2.31318916 -2.30318916 -2.29318916 -2.28318916\n",
      " -2.27318916 -2.26318916 -2.25318916 -2.24318916 -2.23318916 -2.22318916\n",
      " -2.21318916 -2.20318916 -2.19318916 -2.18318916 -2.17318916 -2.16318916\n",
      " -2.15318916 -2.14318916 -2.13318916 -2.12318916 -2.11318916 -2.10318916\n",
      " -2.09318916 -2.08318916 -2.07318916 -2.06318916 -2.05318916 -2.04318916\n",
      " -2.03318916 -2.02318916 -2.01318916 -2.00318916 -1.99318916 -1.98318916\n",
      " -1.97318916 -1.96318916 -1.95318916 -1.94318916 -1.93318916 -1.92318916\n",
      " -1.91318916 -1.90318916 -1.89318916 -1.88318916 -1.87318916 -1.86318916\n",
      " -1.85318916 -1.84318916 -1.83318916 -1.82318916 -1.81318916 -1.80318916\n",
      " -1.79318916 -1.78318916 -1.77318916 -1.76318916 -1.75318916 -1.74318916\n",
      " -1.73318916 -1.72318916 -1.71318916 -1.70318916 -1.69318916 -1.68318916\n",
      " -1.67318916 -1.66318916 -1.65318916 -1.64318916 -1.63318916 -1.62318916\n",
      " -1.61318916 -1.60318916 -1.59318916 -1.58318916 -1.57318916 -1.56318916\n",
      " -1.55318916 -1.54318916 -1.53318916 -1.52318916 -1.51318916 -1.50318916\n",
      " -1.49318916 -1.48318916 -1.47318916 -1.46318916 -1.45318916 -1.44318916\n",
      " -1.43318916 -1.42318916 -1.41318916 -1.40318916 -1.39318916 -1.38318916\n",
      " -1.37318916 -1.36318916 -1.35318916 -1.34318916 -1.33318916 -1.32318916\n",
      " -1.31318916 -1.30318916 -1.29318916 -1.28318916 -1.27318916 -1.26318916\n",
      " -1.25318916 -1.24318916 -1.23318916 -1.22318916 -1.21318916 -1.20318916\n",
      " -1.19318916 -1.18318916 -1.17318916 -1.16318916 -1.15318916 -1.14318916\n",
      " -1.13318916 -1.12318916 -1.11318916 -1.10318916 -1.09318916 -1.08318916\n",
      " -1.07318916 -1.06318916 -1.05318916 -1.04318916 -1.03318916 -1.02318916\n",
      " -1.01318916 -1.00318916 -0.99318916 -0.98318916 -0.97318916 -0.96318916\n",
      " -0.95318916 -0.94318916 -0.93318916 -0.92318916 -0.91318916 -0.90318916\n",
      " -0.89318916 -0.88318916 -0.87318916 -0.86318916 -0.85318916 -0.84318916\n",
      " -0.83318916 -0.82318916 -0.81318916 -0.80318916 -0.79318916 -0.78318916\n",
      " -0.77318916 -0.76318916 -0.75318916 -0.74318916 -0.73318916 -0.72318916\n",
      " -0.71318916 -0.70318916 -0.69318916 -0.68318916 -0.67318916 -0.66318916\n",
      " -0.65318916 -0.64318916 -0.63318916 -0.62318916 -0.61318916 -0.60318916\n",
      " -0.59318916 -0.58318916 -0.57318916 -0.56318916 -0.55318916 -0.54318916\n",
      " -0.53318916 -0.52318916 -0.51318916 -0.50318916 -0.49318916 -0.48318916\n",
      " -0.47318916 -0.46318916 -0.45318916 -0.44318916 -0.43318916 -0.42318916\n",
      " -0.41318916 -0.40318916 -0.39318916 -0.38318916 -0.37318916 -0.36318916\n",
      " -0.35318916 -0.34318916 -0.33318916 -0.32318916 -0.31318916 -0.30318916\n",
      " -0.29318916 -0.28318916 -0.27318916 -0.26318916 -0.25318916 -0.24318916\n",
      " -0.23318916 -0.22318916 -0.21318916 -0.20318916 -0.19318916 -0.18318916\n",
      " -0.17318916 -0.16318916 -0.15318916 -0.14318916 -0.13318916 -0.12318916\n",
      " -0.11318916 -0.10318916 -0.09318916 -0.08318916 -0.07318916 -0.06318916\n",
      " -0.05318916 -0.04318916 -0.03318916 -0.02318916 -0.01318916 -0.00318916\n",
      "  0.00681084  0.01681084  0.02681084  0.03681084  0.04681084  0.05681084\n",
      "  0.06681084  0.07681084  0.08681084  0.09681084  0.10681084  0.11681084\n",
      "  0.12681084  0.13681084  0.14681084  0.15681084  0.16681084  0.17681084\n",
      "  0.18681084  0.19681084  0.20681084  0.21681084  0.22681084  0.23681084\n",
      "  0.24681084  0.25681084  0.26681084  0.27681084  0.28681084  0.29681084\n",
      "  0.30681084  0.31681084  0.32681084  0.33681084  0.34681084  0.35681084\n",
      "  0.36681084  0.37681084  0.38681084  0.39681084  0.40681084  0.41681084\n",
      "  0.42681084  0.43681084  0.44681084  0.45681084  0.46681084  0.47681084\n",
      "  0.48681084  0.49681084  0.50681084  0.51681084  0.52681084  0.53681084\n",
      "  0.54681084  0.55681084  0.56681084  0.57681084  0.58681084  0.59681084\n",
      "  0.60681084  0.61681084  0.62681084  0.63681084  0.64681084  0.65681084\n",
      "  0.66681084  0.67681084  0.68681084  0.69681084  0.70681084  0.71681084\n",
      "  0.72681084  0.73681084  0.74681084  0.75681084  0.76681084  0.77681084\n",
      "  0.78681084  0.79681084  0.80681084  0.81681084  0.82681084  0.83681084\n",
      "  0.84681084  0.85681084  0.86681084  0.87681084  0.88681084  0.89681084\n",
      "  0.90681084  0.91681084  0.92681084  0.93681084  0.94681084  0.95681084\n",
      "  0.96681084  0.97681084  0.98681084  0.99681084  1.00681084  1.01681084\n",
      "  1.02681084  1.03681084  1.04681084  1.05681084  1.06681084  1.07681084\n",
      "  1.08681084  1.09681084  1.10681084  1.11681084  1.12681084  1.13681084\n",
      "  1.14681084  1.15681084  1.16681084  1.17681084  1.18681084  1.19681084\n",
      "  1.20681084  1.21681084  1.22681084  1.23681084  1.24681084  1.25681084\n",
      "  1.26681084  1.27681084  1.28681084  1.29681084  1.30681084  1.31681084\n",
      "  1.32681084  1.33681084  1.34681084  1.35681084  1.36681084  1.37681084\n",
      "  1.38681084  1.39681084  1.40681084  1.41681084  1.42681084  1.43681084\n",
      "  1.44681084  1.45681084  1.46681084  1.47681084  1.48681084  1.49681084\n",
      "  1.50681084  1.51681084  1.52681084  1.53681084  1.54681084  1.55681084\n",
      "  1.56681084  1.57681084  1.58681084  1.59681084  1.60681084  1.61681084\n",
      "  1.62681084  1.63681084  1.64681084  1.65681084  1.66681084  1.67681084\n",
      "  1.68681084  1.69681084  1.70681084  1.71681084  1.72681084  1.73681084\n",
      "  1.74681084  1.75681084  1.76681084  1.77681084  1.78681084  1.79681084\n",
      "  1.80681084  1.81681084  1.82681084  1.83681084  1.84681084  1.85681084\n",
      "  1.86681084  1.87681084  1.88681084  1.89681084  1.90681084  1.91681084\n",
      "  1.92681084  1.93681084  1.94681084  1.95681084  1.96681084  1.97681084\n",
      "  1.98681084  1.99681084  2.00681084  2.01681084  2.02681084  2.03681084\n",
      "  2.04681084  2.05681084  2.06681084  2.07681084  2.08681084  2.09681084\n",
      "  2.10681084  2.11681084  2.12681084  2.13681084  2.14681084  2.15681084\n",
      "  2.16681084  2.17681084  2.18681084  2.19681084  2.20681084  2.21681084\n",
      "  2.22681084  2.23681084  2.24681084  2.25681084  2.26681084  2.27681084\n",
      "  2.28681084  2.29681084  2.30681084  2.31681084  2.32681084  2.33681084\n",
      "  2.34681084  2.35681084  2.36681084  2.37681084  2.38681084  2.39681084\n",
      "  2.40681084  2.41681084  2.42681084  2.43681084  2.44681084  2.45681084\n",
      "  2.46681084  2.47681084  2.48681084  2.49681084  2.50681084  2.51681084\n",
      "  2.52681084  2.53681084  2.54681084  2.55681084  2.56681084  2.57681084\n",
      "  2.58681084  2.59681084  2.60681084  2.61681084  2.62681084  2.63681084\n",
      "  2.64681084  2.65681084  2.66681084  2.67681084  2.68681084  2.69681084\n",
      "  2.70681084  2.71681084  2.72681084  2.73681084  2.74681084  2.75681084\n",
      "  2.76681084  2.77681084  2.78681084  2.79681084  2.80681084  2.81681084\n",
      "  2.82681084  2.83681084  2.84681084  2.85681084  2.86681084  2.87681084\n",
      "  2.88681084  2.89681084  2.90681084  2.91681084  2.92681084  2.93681084\n",
      "  2.94681084  2.95681084  2.96681084  2.97681084  2.98681084  2.99681084\n",
      "  3.00681084  3.01681084  3.02681084  3.03681084  3.04681084  3.05681084\n",
      "  3.06681084  3.07681084  3.08681084  3.09681084  3.10681084  3.11681084\n",
      "  3.12681084  3.13681084  3.14681084  3.15681084]\n"
     ]
    }
   ],
   "source": [
    "a = np.arange(start = X_set[:, 0].min() - 1, stop = X_set[:, 0].max() + 1, step = 0.01)\n",
    "print (a)"
   ]
  },
  {
   "cell_type": "markdown",
   "metadata": {},
   "source": [
    "#### 2.EstimatedSalary變數的範圍"
   ]
  },
  {
   "cell_type": "code",
   "execution_count": 14,
   "metadata": {
    "collapsed": true
   },
   "outputs": [],
   "source": [
    "b = np.arange(start = X_set[:, 1].min() - 1, stop = X_set[:, 1].max() + 1, step = 0.01)"
   ]
  },
  {
   "cell_type": "code",
   "execution_count": 15,
   "metadata": {},
   "outputs": [
    {
     "data": {
      "text/plain": [
       "(616,)"
      ]
     },
     "execution_count": 15,
     "metadata": {},
     "output_type": "execute_result"
    }
   ],
   "source": [
    "a.shape"
   ]
  },
  {
   "cell_type": "code",
   "execution_count": 16,
   "metadata": {},
   "outputs": [
    {
     "data": {
      "text/plain": [
       "(592,)"
      ]
     },
     "execution_count": 16,
     "metadata": {},
     "output_type": "execute_result"
    }
   ],
   "source": [
    "b.shape"
   ]
  },
  {
   "cell_type": "markdown",
   "metadata": {},
   "source": [
    "#### 3.使用函數np.meshgrid定義\n",
    "說明：http://blog.sina.com.cn/s/blog_4c8ff8950100chmc.html"
   ]
  },
  {
   "cell_type": "code",
   "execution_count": 17,
   "metadata": {
    "collapsed": true
   },
   "outputs": [],
   "source": [
    "X_set, y_set = X_train, y_train\n",
    "X1, X2 = np.meshgrid(a,b)"
   ]
  },
  {
   "cell_type": "code",
   "execution_count": 19,
   "metadata": {},
   "outputs": [
    {
     "data": {
      "text/plain": [
       "(592, 616)"
      ]
     },
     "execution_count": 19,
     "metadata": {},
     "output_type": "execute_result"
    }
   ],
   "source": [
    "X1.shape"
   ]
  },
  {
   "cell_type": "code",
   "execution_count": 20,
   "metadata": {},
   "outputs": [
    {
     "data": {
      "text/plain": [
       "array([[-2.99318916, -2.98318916, -2.97318916, ...,  3.13681084,\n",
       "         3.14681084,  3.15681084],\n",
       "       [-2.99318916, -2.98318916, -2.97318916, ...,  3.13681084,\n",
       "         3.14681084,  3.15681084],\n",
       "       [-2.99318916, -2.98318916, -2.97318916, ...,  3.13681084,\n",
       "         3.14681084,  3.15681084],\n",
       "       ..., \n",
       "       [-2.99318916, -2.98318916, -2.97318916, ...,  3.13681084,\n",
       "         3.14681084,  3.15681084],\n",
       "       [-2.99318916, -2.98318916, -2.97318916, ...,  3.13681084,\n",
       "         3.14681084,  3.15681084],\n",
       "       [-2.99318916, -2.98318916, -2.97318916, ...,  3.13681084,\n",
       "         3.14681084,  3.15681084]])"
      ]
     },
     "execution_count": 20,
     "metadata": {},
     "output_type": "execute_result"
    }
   ],
   "source": [
    "X1"
   ]
  },
  {
   "cell_type": "code",
   "execution_count": 21,
   "metadata": {},
   "outputs": [
    {
     "data": {
      "text/plain": [
       "(592, 616)"
      ]
     },
     "execution_count": 21,
     "metadata": {},
     "output_type": "execute_result"
    }
   ],
   "source": [
    "X2.shape"
   ]
  },
  {
   "cell_type": "code",
   "execution_count": 22,
   "metadata": {},
   "outputs": [
    {
     "data": {
      "text/plain": [
       "array([[-2.58254245, -2.58254245, -2.58254245, ..., -2.58254245,\n",
       "        -2.58254245, -2.58254245],\n",
       "       [-2.57254245, -2.57254245, -2.57254245, ..., -2.57254245,\n",
       "        -2.57254245, -2.57254245],\n",
       "       [-2.56254245, -2.56254245, -2.56254245, ..., -2.56254245,\n",
       "        -2.56254245, -2.56254245],\n",
       "       ..., \n",
       "       [ 3.30745755,  3.30745755,  3.30745755, ...,  3.30745755,\n",
       "         3.30745755,  3.30745755],\n",
       "       [ 3.31745755,  3.31745755,  3.31745755, ...,  3.31745755,\n",
       "         3.31745755,  3.31745755],\n",
       "       [ 3.32745755,  3.32745755,  3.32745755, ...,  3.32745755,\n",
       "         3.32745755,  3.32745755]])"
      ]
     },
     "execution_count": 22,
     "metadata": {},
     "output_type": "execute_result"
    }
   ],
   "source": [
    "X2"
   ]
  },
  {
   "cell_type": "markdown",
   "metadata": {},
   "source": [
    "#### 4.使用函數ravel矩陣攤平\n",
    "說明：http://blog.csdn.net/lanchunhui/article/details/50354978"
   ]
  },
  {
   "cell_type": "code",
   "execution_count": 23,
   "metadata": {},
   "outputs": [
    {
     "data": {
      "text/plain": [
       "(364672,)"
      ]
     },
     "execution_count": 23,
     "metadata": {},
     "output_type": "execute_result"
    }
   ],
   "source": [
    "X2.ravel().shape"
   ]
  },
  {
   "cell_type": "code",
   "execution_count": 24,
   "metadata": {},
   "outputs": [
    {
     "data": {
      "text/plain": [
       "(2, 364672)"
      ]
     },
     "execution_count": 24,
     "metadata": {},
     "output_type": "execute_result"
    }
   ],
   "source": [
    "np.array([X1.ravel(), X2.ravel()]).shape"
   ]
  },
  {
   "cell_type": "markdown",
   "metadata": {},
   "source": [
    "#### 5.使用predict結果"
   ]
  },
  {
   "cell_type": "code",
   "execution_count": 18,
   "metadata": {},
   "outputs": [
    {
     "data": {
      "text/plain": [
       "array([0, 0, 0, ..., 1, 1, 1])"
      ]
     },
     "execution_count": 18,
     "metadata": {},
     "output_type": "execute_result"
    }
   ],
   "source": [
    "classifier.predict(np.array([X1.ravel(), X2.ravel()]).T)"
   ]
  },
  {
   "cell_type": "code",
   "execution_count": 69,
   "metadata": {},
   "outputs": [
    {
     "data": {
      "text/plain": [
       "(364672,)"
      ]
     },
     "execution_count": 69,
     "metadata": {},
     "output_type": "execute_result"
    }
   ],
   "source": [
    "classifier.predict(np.array([X1.ravel(), X2.ravel()]).T).shape"
   ]
  },
  {
   "cell_type": "code",
   "execution_count": 70,
   "metadata": {},
   "outputs": [
    {
     "data": {
      "text/plain": [
       "array([[0, 0, 0, ..., 1, 1, 1],\n",
       "       [0, 0, 0, ..., 1, 1, 1],\n",
       "       [0, 0, 0, ..., 1, 1, 1],\n",
       "       ..., \n",
       "       [0, 0, 0, ..., 1, 1, 1],\n",
       "       [0, 0, 0, ..., 1, 1, 1],\n",
       "       [0, 0, 0, ..., 1, 1, 1]])"
      ]
     },
     "execution_count": 70,
     "metadata": {},
     "output_type": "execute_result"
    }
   ],
   "source": [
    "classifier.predict(np.array([X1.ravel(), X2.ravel()]).T).reshape(X1.shape)"
   ]
  },
  {
   "cell_type": "code",
   "execution_count": 25,
   "metadata": {},
   "outputs": [
    {
     "data": {
      "text/plain": [
       "(592, 616)"
      ]
     },
     "execution_count": 25,
     "metadata": {},
     "output_type": "execute_result"
    }
   ],
   "source": [
    "classifier.predict(np.array([X1.ravel(), X2.ravel()]).T).reshape(X1.shape).shape"
   ]
  },
  {
   "cell_type": "markdown",
   "metadata": {},
   "source": [
    "#### 6.使用函數plt.contourf說明\n",
    "說明：https://morvanzhou.github.io/tutorials/data-manipulation/plt/3-3-contours/"
   ]
  },
  {
   "cell_type": "code",
   "execution_count": 19,
   "metadata": {},
   "outputs": [
    {
     "data": {
      "text/plain": [
       "<matplotlib.contour.QuadContourSet at 0x11fbbeb70>"
      ]
     },
     "execution_count": 19,
     "metadata": {},
     "output_type": "execute_result"
    }
   ],
   "source": [
    "plt.contourf(X1, X2, classifier.predict(np.array([X1.ravel(), X2.ravel()]).T).reshape(X1.shape),\n",
    "             alpha = 0.75, cmap = ListedColormap(('red', 'green')))"
   ]
  },
  {
   "cell_type": "markdown",
   "metadata": {},
   "source": [
    "#### 7.使用函數plt.contourf說明\n",
    "說明：畫出X軸與Y軸界線"
   ]
  },
  {
   "cell_type": "code",
   "execution_count": 20,
   "metadata": {},
   "outputs": [
    {
     "data": {
      "text/plain": [
       "(-2.9931891594584856, 3.1568108405413833)"
      ]
     },
     "execution_count": 20,
     "metadata": {},
     "output_type": "execute_result"
    }
   ],
   "source": [
    "plt.xlim(X1.min(), X1.max())"
   ]
  },
  {
   "cell_type": "code",
   "execution_count": 21,
   "metadata": {},
   "outputs": [
    {
     "data": {
      "text/plain": [
       "(-2.5825424477554764, 3.3274575522443977)"
      ]
     },
     "execution_count": 21,
     "metadata": {},
     "output_type": "execute_result"
    }
   ],
   "source": [
    "plt.ylim(X2.min(), X2.max())"
   ]
  },
  {
   "cell_type": "markdown",
   "metadata": {},
   "source": [
    "#### 8.畫出散佈圖plt.scatter"
   ]
  },
  {
   "cell_type": "code",
   "execution_count": 32,
   "metadata": {},
   "outputs": [
    {
     "name": "stdout",
     "output_type": "stream",
     "text": [
      "0 0\n",
      "1 1\n"
     ]
    }
   ],
   "source": [
    "for i, j in enumerate(np.unique(y_set)):\n",
    "    plt.scatter(X_set[y_set == j, 0], X_set[y_set == j, 1],\n",
    "                c = ListedColormap(('red', 'green'))(i), label = j)\n",
    "    print (i,j)"
   ]
  },
  {
   "cell_type": "markdown",
   "metadata": {},
   "source": [
    "將上列程式步驟拆解"
   ]
  },
  {
   "cell_type": "code",
   "execution_count": 30,
   "metadata": {},
   "outputs": [
    {
     "data": {
      "text/plain": [
       "array([0, 1])"
      ]
     },
     "execution_count": 30,
     "metadata": {},
     "output_type": "execute_result"
    }
   ],
   "source": [
    "np.unique(y_set)"
   ]
  },
  {
   "cell_type": "code",
   "execution_count": 31,
   "metadata": {},
   "outputs": [
    {
     "data": {
      "text/plain": [
       "(189,)"
      ]
     },
     "execution_count": 31,
     "metadata": {},
     "output_type": "execute_result"
    }
   ],
   "source": [
    "X_set[y_set == 0, 0].shape"
   ]
  },
  {
   "cell_type": "code",
   "execution_count": 31,
   "metadata": {},
   "outputs": [
    {
     "data": {
      "text/plain": [
       "array([ True, False,  True, False, False, False,  True,  True,  True,\n",
       "        True,  True,  True, False, False, False,  True, False,  True,\n",
       "        True, False,  True, False,  True, False,  True,  True, False,\n",
       "       False, False, False,  True, False,  True, False,  True,  True,\n",
       "       False,  True,  True, False,  True,  True,  True,  True,  True,\n",
       "       False, False, False, False,  True,  True,  True, False,  True,\n",
       "       False,  True, False,  True,  True, False,  True,  True,  True,\n",
       "       False,  True,  True,  True, False, False,  True,  True, False,\n",
       "        True, False, False, False,  True,  True, False, False,  True,\n",
       "        True, False, False,  True, False,  True,  True, False, False,\n",
       "        True, False, False, False,  True,  True,  True,  True,  True,\n",
       "       False,  True,  True, False, False, False, False, False,  True,\n",
       "       False, False,  True, False,  True,  True,  True,  True,  True,\n",
       "        True,  True, False, False,  True,  True, False,  True,  True,\n",
       "       False,  True,  True,  True, False,  True, False, False,  True,\n",
       "       False,  True,  True,  True,  True, False,  True,  True,  True,\n",
       "       False, False,  True,  True,  True,  True, False,  True, False,\n",
       "        True,  True,  True, False,  True,  True,  True,  True, False,\n",
       "       False, False,  True,  True,  True,  True,  True,  True, False,\n",
       "       False, False, False, False,  True, False,  True,  True,  True,\n",
       "        True,  True, False,  True,  True,  True,  True,  True,  True,\n",
       "       False, False,  True, False,  True, False,  True,  True, False,\n",
       "        True,  True,  True, False,  True,  True,  True,  True,  True,\n",
       "       False,  True,  True,  True,  True,  True, False,  True, False,\n",
       "       False,  True,  True,  True,  True,  True,  True, False, False,\n",
       "        True,  True,  True,  True, False,  True,  True,  True,  True,\n",
       "       False,  True, False,  True, False,  True,  True,  True, False,\n",
       "        True,  True,  True, False,  True, False,  True,  True,  True,\n",
       "        True,  True, False, False,  True,  True,  True,  True,  True,\n",
       "       False,  True, False, False,  True,  True,  True,  True,  True,\n",
       "       False,  True, False,  True,  True, False,  True,  True, False,\n",
       "        True, False,  True,  True,  True,  True,  True,  True, False,\n",
       "       False, False, False,  True,  True,  True,  True, False,  True,\n",
       "        True,  True,  True], dtype=bool)"
      ]
     },
     "execution_count": 31,
     "metadata": {},
     "output_type": "execute_result"
    }
   ],
   "source": [
    "y_set == 0"
   ]
  },
  {
   "cell_type": "code",
   "execution_count": 32,
   "metadata": {},
   "outputs": [
    {
     "data": {
      "text/plain": [
       "array([ 0.58164944, -0.01254409,  0.08648817, -0.01254409, -0.21060859,\n",
       "       -0.21060859, -0.30964085, -0.30964085,  1.07681071, -0.70576986,\n",
       "        0.77971394, -1.20093113, -0.01254409,  0.38358493, -0.30964085,\n",
       "       -1.20093113, -1.39899564,  0.77971394, -1.00286662, -1.00286662,\n",
       "        0.28455268, -0.50770535, -1.79512465, -0.70576986,  0.38358493,\n",
       "       -0.30964085, -0.30964085, -0.01254409, -0.21060859, -0.01254409,\n",
       "       -1.79512465,  0.38358493, -1.20093113, -0.30964085, -1.6960924 ,\n",
       "       -1.00286662, -0.11157634, -1.10189888,  0.08648817, -1.29996338,\n",
       "       -0.30964085, -0.30964085, -1.20093113, -1.29996338, -0.30964085,\n",
       "       -0.50770535,  0.28455268, -0.70576986, -0.70576986, -1.99318916,\n",
       "       -1.20093113,  0.18552042,  0.77971394,  2.06713324,  0.77971394,\n",
       "       -1.00286662,  0.18552042, -0.30964085, -1.49802789,  0.38358493,\n",
       "       -1.00286662, -0.01254409, -1.20093113, -0.90383437, -0.11157634,\n",
       "       -1.59706014, -0.01254409, -1.10189888,  0.97777845, -1.20093113,\n",
       "        0.08648817, -1.39899564, -0.60673761, -0.30964085,  0.18552042,\n",
       "       -1.89415691, -1.29996338, -0.30964085, -1.00286662,  0.18552042,\n",
       "        1.17584296, -0.30964085,  0.08648817, -1.79512465, -0.90383437,\n",
       "       -0.70576986,  0.18552042, -0.01254409,  0.38358493,  0.8787462 ,\n",
       "       -1.89415691, -0.11157634, -0.21060859,  0.28455268,  1.27487521,\n",
       "       -1.10189888, -0.01254409,  0.08648817, -1.59706014, -0.50770535,\n",
       "       -0.80480212, -1.20093113,  0.68068169, -1.39899564,  0.18552042,\n",
       "       -0.50770535, -1.59706014, -0.50770535,  0.48261718, -1.39899564,\n",
       "        0.77971394, -0.30964085, -0.30964085, -1.49802789, -0.70576986,\n",
       "       -0.50770535, -0.80480212, -1.89415691,  1.07681071, -0.30964085,\n",
       "        0.08648817, -1.39899564,  0.28455268, -0.90383437, -0.30964085,\n",
       "       -0.11157634, -0.90383437, -0.70576986,  0.38358493,  1.37390747,\n",
       "       -0.90383437, -0.80480212, -1.20093113, -0.50770535,  0.28455268,\n",
       "       -0.21060859,  0.28455268, -0.80480212, -0.11157634,  0.28455268,\n",
       "       -0.80480212, -1.79512465, -0.11157634,  0.28455268, -1.00286662,\n",
       "        0.18552042, -0.30964085, -1.6960924 , -0.01254409, -0.11157634,\n",
       "       -1.20093113, -0.30964085, -0.80480212, -0.90383437, -0.50770535,\n",
       "       -0.30964085,  0.28455268,  0.28455268, -1.6960924 , -1.20093113,\n",
       "       -0.70576986,  0.08648817,  0.28455268,  0.28455268, -1.29996338,\n",
       "       -1.00286662, -0.01254409, -0.21060859, -1.79512465,  0.18552042,\n",
       "       -1.79512465,  0.18552042, -1.99318916, -0.30964085, -0.4086731 ,\n",
       "       -1.10189888, -1.89415691,  0.08648817, -1.20093113, -1.29996338,\n",
       "       -1.00286662, -0.30964085,  0.38358493, -0.4086731 , -0.11157634,\n",
       "       -0.90383437, -0.21060859, -1.10189888, -1.20093113])"
      ]
     },
     "execution_count": 32,
     "metadata": {},
     "output_type": "execute_result"
    }
   ],
   "source": [
    "X_set[y_set == 0, 0]"
   ]
  },
  {
   "cell_type": "code",
   "execution_count": 33,
   "metadata": {},
   "outputs": [
    {
     "data": {
      "image/png": "[encoded data removed]",
      "text/plain": [
       "<matplotlib.figure.Figure at 0x11751d588>"
      ]
     },
     "metadata": {},
     "output_type": "display_data"
    }
   ],
   "source": [
    "plt.title('Logistic Regression (Training set)')\n",
    "plt.xlabel('Age')\n",
    "plt.ylabel('Estimated Salary')\n",
    "plt.legend()\n",
    "plt.show()"
   ]
  },
  {
   "cell_type": "code",
   "execution_count": 19,
   "metadata": {
    "collapsed": true
   },
   "outputs": [],
   "source": [
    "from matplotlib.colors import ListedColormap"
   ]
  },
  {
   "cell_type": "code",
   "execution_count": 20,
   "metadata": {
    "collapsed": true
   },
   "outputs": [],
   "source": [
    "X_set, y_set = X_test, y_test\n",
    "X1, X2 = np.meshgrid(np.arange(start = X_set[:, 0].min() - 1, stop = X_set[:, 0].max() + 1, step = 0.01),\n",
    "                     np.arange(start = X_set[:, 1].min() - 1, stop = X_set[:, 1].max() + 1, step = 0.01))"
   ]
  },
  {
   "cell_type": "code",
   "execution_count": 21,
   "metadata": {},
   "outputs": [
    {
     "data": {
      "text/plain": [
       "<matplotlib.contour.QuadContourSet at 0x11d006400>"
      ]
     },
     "execution_count": 21,
     "metadata": {},
     "output_type": "execute_result"
    }
   ],
   "source": [
    "plt.contourf(X1, X2, classifier.predict(np.array([X1.ravel(), X2.ravel()]).T).reshape(X1.shape),\n",
    "             alpha = 0.75, cmap = ListedColormap(('red', 'green')))"
   ]
  },
  {
   "cell_type": "code",
   "execution_count": 22,
   "metadata": {},
   "outputs": [
    {
     "data": {
      "text/plain": [
       "(-2.9931891594584856, 3.1568108405413833)"
      ]
     },
     "execution_count": 22,
     "metadata": {},
     "output_type": "execute_result"
    }
   ],
   "source": [
    "plt.xlim(X1.min(), X1.max())"
   ]
  },
  {
   "cell_type": "code",
   "execution_count": 23,
   "metadata": {},
   "outputs": [
    {
     "data": {
      "text/plain": [
       "(-2.5825424477554764, 3.3274575522443977)"
      ]
     },
     "execution_count": 23,
     "metadata": {},
     "output_type": "execute_result"
    }
   ],
   "source": [
    "plt.ylim(X2.min(), X2.max())"
   ]
  },
  {
   "cell_type": "code",
   "execution_count": 34,
   "metadata": {
    "collapsed": true
   },
   "outputs": [],
   "source": [
    "for i, j in enumerate(np.unique(y_set)):\n",
    "    plt.scatter(X_set[y_set == j, 0], X_set[y_set == j, 1],\n",
    "                c = ListedColormap(('red', 'green'))(i), label = j)"
   ]
  },
  {
   "cell_type": "code",
   "execution_count": 35,
   "metadata": {},
   "outputs": [
    {
     "data": {
      "image/png": "[encoded data removed]",
      "text/plain": [
       "<matplotlib.figure.Figure at 0x1216b3d30>"
      ]
     },
     "metadata": {},
     "output_type": "display_data"
    }
   ],
   "source": [
    "plt.title('Logistic Regression (Test set)')\n",
    "plt.xlabel('Age')\n",
    "plt.ylabel('Estimated Salary')\n",
    "plt.legend()\n",
    "plt.show()"
   ]
  }
 ],
 "metadata": {
  "kernelspec": {
   "display_name": "Python 3",
   "language": "python",
   "name": "python3"
  },
  "language_info": {
   "codemirror_mode": {
    "name": "ipython",
    "version": 3
   },
   "file_extension": ".py",
   "mimetype": "text/x-python",
   "name": "python",
   "nbconvert_exporter": "python",
   "pygments_lexer": "ipython3",
   "version": "3.6.1"
  }
 },
 "nbformat": 4,
 "nbformat_minor": 2
}
