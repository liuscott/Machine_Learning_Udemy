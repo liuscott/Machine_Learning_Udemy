{
 "cells": [
  {
   "cell_type": "code",
   "execution_count": 2,
   "metadata": {
    "collapsed": true
   },
   "outputs": [],
   "source": [
    "# Importing the libraries\n",
    "import numpy as np\n",
    "import matplotlib.pyplot as plt\n",
    "import pandas as pd"
   ]
  },
  {
   "cell_type": "code",
   "execution_count": 3,
   "metadata": {
    "collapsed": true
   },
   "outputs": [],
   "source": [
    "# Importing the dataset\n",
    "dataset = pd.read_csv('/Users/bicc/Documents/kyo/Model_Selection/Social_Network_Ads.csv')\n",
    "X = dataset.iloc[:, [2, 3]].values\n",
    "y = dataset.iloc[:, 4].values"
   ]
  },
  {
   "cell_type": "code",
   "execution_count": 4,
   "metadata": {},
   "outputs": [
    {
     "name": "stdout",
     "output_type": "stream",
     "text": [
      "[[  1.90000000e+01   1.90000000e+04]\n",
      " [  3.50000000e+01   2.00000000e+04]\n",
      " [  2.60000000e+01   4.30000000e+04]\n",
      " [  2.70000000e+01   5.70000000e+04]\n",
      " [  1.90000000e+01   7.60000000e+04]\n",
      " [  2.70000000e+01   5.80000000e+04]\n",
      " [  2.70000000e+01   8.40000000e+04]\n",
      " [  3.20000000e+01   1.50000000e+05]\n",
      " [  2.50000000e+01   3.30000000e+04]\n",
      " [  3.50000000e+01   6.50000000e+04]\n",
      " [  2.60000000e+01   8.00000000e+04]\n",
      " [  2.60000000e+01   5.20000000e+04]\n",
      " [  2.00000000e+01   8.60000000e+04]\n",
      " [  3.20000000e+01   1.80000000e+04]\n",
      " [  1.80000000e+01   8.20000000e+04]\n",
      " [  2.90000000e+01   8.00000000e+04]\n",
      " [  4.70000000e+01   2.50000000e+04]\n",
      " [  4.50000000e+01   2.60000000e+04]\n",
      " [  4.60000000e+01   2.80000000e+04]\n",
      " [  4.80000000e+01   2.90000000e+04]\n",
      " [  4.50000000e+01   2.20000000e+04]\n",
      " [  4.70000000e+01   4.90000000e+04]\n",
      " [  4.80000000e+01   4.10000000e+04]\n",
      " [  4.50000000e+01   2.20000000e+04]\n",
      " [  4.60000000e+01   2.30000000e+04]\n",
      " [  4.70000000e+01   2.00000000e+04]\n",
      " [  4.90000000e+01   2.80000000e+04]\n",
      " [  4.70000000e+01   3.00000000e+04]\n",
      " [  2.90000000e+01   4.30000000e+04]\n",
      " [  3.10000000e+01   1.80000000e+04]\n",
      " [  3.10000000e+01   7.40000000e+04]\n",
      " [  2.70000000e+01   1.37000000e+05]\n",
      " [  2.10000000e+01   1.60000000e+04]\n",
      " [  2.80000000e+01   4.40000000e+04]\n",
      " [  2.70000000e+01   9.00000000e+04]\n",
      " [  3.50000000e+01   2.70000000e+04]\n",
      " [  3.30000000e+01   2.80000000e+04]\n",
      " [  3.00000000e+01   4.90000000e+04]\n",
      " [  2.60000000e+01   7.20000000e+04]\n",
      " [  2.70000000e+01   3.10000000e+04]\n",
      " [  2.70000000e+01   1.70000000e+04]\n",
      " [  3.30000000e+01   5.10000000e+04]\n",
      " [  3.50000000e+01   1.08000000e+05]\n",
      " [  3.00000000e+01   1.50000000e+04]\n",
      " [  2.80000000e+01   8.40000000e+04]\n",
      " [  2.30000000e+01   2.00000000e+04]\n",
      " [  2.50000000e+01   7.90000000e+04]\n",
      " [  2.70000000e+01   5.40000000e+04]\n",
      " [  3.00000000e+01   1.35000000e+05]\n",
      " [  3.10000000e+01   8.90000000e+04]\n",
      " [  2.40000000e+01   3.20000000e+04]\n",
      " [  1.80000000e+01   4.40000000e+04]\n",
      " [  2.90000000e+01   8.30000000e+04]\n",
      " [  3.50000000e+01   2.30000000e+04]\n",
      " [  2.70000000e+01   5.80000000e+04]\n",
      " [  2.40000000e+01   5.50000000e+04]\n",
      " [  2.30000000e+01   4.80000000e+04]\n",
      " [  2.80000000e+01   7.90000000e+04]\n",
      " [  2.20000000e+01   1.80000000e+04]\n",
      " [  3.20000000e+01   1.17000000e+05]\n",
      " [  2.70000000e+01   2.00000000e+04]\n",
      " [  2.50000000e+01   8.70000000e+04]\n",
      " [  2.30000000e+01   6.60000000e+04]\n",
      " [  3.20000000e+01   1.20000000e+05]\n",
      " [  5.90000000e+01   8.30000000e+04]\n",
      " [  2.40000000e+01   5.80000000e+04]\n",
      " [  2.40000000e+01   1.90000000e+04]\n",
      " [  2.30000000e+01   8.20000000e+04]\n",
      " [  2.20000000e+01   6.30000000e+04]\n",
      " [  3.10000000e+01   6.80000000e+04]\n",
      " [  2.50000000e+01   8.00000000e+04]\n",
      " [  2.40000000e+01   2.70000000e+04]\n",
      " [  2.00000000e+01   2.30000000e+04]\n",
      " [  3.30000000e+01   1.13000000e+05]\n",
      " [  3.20000000e+01   1.80000000e+04]\n",
      " [  3.40000000e+01   1.12000000e+05]\n",
      " [  1.80000000e+01   5.20000000e+04]\n",
      " [  2.20000000e+01   2.70000000e+04]\n",
      " [  2.80000000e+01   8.70000000e+04]\n",
      " [  2.60000000e+01   1.70000000e+04]\n",
      " [  3.00000000e+01   8.00000000e+04]\n",
      " [  3.90000000e+01   4.20000000e+04]\n",
      " [  2.00000000e+01   4.90000000e+04]\n",
      " [  3.50000000e+01   8.80000000e+04]\n",
      " [  3.00000000e+01   6.20000000e+04]\n",
      " [  3.10000000e+01   1.18000000e+05]\n",
      " [  2.40000000e+01   5.50000000e+04]\n",
      " [  2.80000000e+01   8.50000000e+04]\n",
      " [  2.60000000e+01   8.10000000e+04]\n",
      " [  3.50000000e+01   5.00000000e+04]\n",
      " [  2.20000000e+01   8.10000000e+04]\n",
      " [  3.00000000e+01   1.16000000e+05]\n",
      " [  2.60000000e+01   1.50000000e+04]\n",
      " [  2.90000000e+01   2.80000000e+04]\n",
      " [  2.90000000e+01   8.30000000e+04]\n",
      " [  3.50000000e+01   4.40000000e+04]\n",
      " [  3.50000000e+01   2.50000000e+04]\n",
      " [  2.80000000e+01   1.23000000e+05]\n",
      " [  3.50000000e+01   7.30000000e+04]\n",
      " [  2.80000000e+01   3.70000000e+04]\n",
      " [  2.70000000e+01   8.80000000e+04]\n",
      " [  2.80000000e+01   5.90000000e+04]\n",
      " [  3.20000000e+01   8.60000000e+04]\n",
      " [  3.30000000e+01   1.49000000e+05]\n",
      " [  1.90000000e+01   2.10000000e+04]\n",
      " [  2.10000000e+01   7.20000000e+04]\n",
      " [  2.60000000e+01   3.50000000e+04]\n",
      " [  2.70000000e+01   8.90000000e+04]\n",
      " [  2.60000000e+01   8.60000000e+04]\n",
      " [  3.80000000e+01   8.00000000e+04]\n",
      " [  3.90000000e+01   7.10000000e+04]\n",
      " [  3.70000000e+01   7.10000000e+04]\n",
      " [  3.80000000e+01   6.10000000e+04]\n",
      " [  3.70000000e+01   5.50000000e+04]\n",
      " [  4.20000000e+01   8.00000000e+04]\n",
      " [  4.00000000e+01   5.70000000e+04]\n",
      " [  3.50000000e+01   7.50000000e+04]\n",
      " [  3.60000000e+01   5.20000000e+04]\n",
      " [  4.00000000e+01   5.90000000e+04]\n",
      " [  4.10000000e+01   5.90000000e+04]\n",
      " [  3.60000000e+01   7.50000000e+04]\n",
      " [  3.70000000e+01   7.20000000e+04]\n",
      " [  4.00000000e+01   7.50000000e+04]\n",
      " [  3.50000000e+01   5.30000000e+04]\n",
      " [  4.10000000e+01   5.10000000e+04]\n",
      " [  3.90000000e+01   6.10000000e+04]\n",
      " [  4.20000000e+01   6.50000000e+04]\n",
      " [  2.60000000e+01   3.20000000e+04]\n",
      " [  3.00000000e+01   1.70000000e+04]\n",
      " [  2.60000000e+01   8.40000000e+04]\n",
      " [  3.10000000e+01   5.80000000e+04]\n",
      " [  3.30000000e+01   3.10000000e+04]\n",
      " [  3.00000000e+01   8.70000000e+04]\n",
      " [  2.10000000e+01   6.80000000e+04]\n",
      " [  2.80000000e+01   5.50000000e+04]\n",
      " [  2.30000000e+01   6.30000000e+04]\n",
      " [  2.00000000e+01   8.20000000e+04]\n",
      " [  3.00000000e+01   1.07000000e+05]\n",
      " [  2.80000000e+01   5.90000000e+04]\n",
      " [  1.90000000e+01   2.50000000e+04]\n",
      " [  1.90000000e+01   8.50000000e+04]\n",
      " [  1.80000000e+01   6.80000000e+04]\n",
      " [  3.50000000e+01   5.90000000e+04]\n",
      " [  3.00000000e+01   8.90000000e+04]\n",
      " [  3.40000000e+01   2.50000000e+04]\n",
      " [  2.40000000e+01   8.90000000e+04]\n",
      " [  2.70000000e+01   9.60000000e+04]\n",
      " [  4.10000000e+01   3.00000000e+04]\n",
      " [  2.90000000e+01   6.10000000e+04]\n",
      " [  2.00000000e+01   7.40000000e+04]\n",
      " [  2.60000000e+01   1.50000000e+04]\n",
      " [  4.10000000e+01   4.50000000e+04]\n",
      " [  3.10000000e+01   7.60000000e+04]\n",
      " [  3.60000000e+01   5.00000000e+04]\n",
      " [  4.00000000e+01   4.70000000e+04]\n",
      " [  3.10000000e+01   1.50000000e+04]\n",
      " [  4.60000000e+01   5.90000000e+04]\n",
      " [  2.90000000e+01   7.50000000e+04]\n",
      " [  2.60000000e+01   3.00000000e+04]\n",
      " [  3.20000000e+01   1.35000000e+05]\n",
      " [  3.20000000e+01   1.00000000e+05]\n",
      " [  2.50000000e+01   9.00000000e+04]\n",
      " [  3.70000000e+01   3.30000000e+04]\n",
      " [  3.50000000e+01   3.80000000e+04]\n",
      " [  3.30000000e+01   6.90000000e+04]\n",
      " [  1.80000000e+01   8.60000000e+04]\n",
      " [  2.20000000e+01   5.50000000e+04]\n",
      " [  3.50000000e+01   7.10000000e+04]\n",
      " [  2.90000000e+01   1.48000000e+05]\n",
      " [  2.90000000e+01   4.70000000e+04]\n",
      " [  2.10000000e+01   8.80000000e+04]\n",
      " [  3.40000000e+01   1.15000000e+05]\n",
      " [  2.60000000e+01   1.18000000e+05]\n",
      " [  3.40000000e+01   4.30000000e+04]\n",
      " [  3.40000000e+01   7.20000000e+04]\n",
      " [  2.30000000e+01   2.80000000e+04]\n",
      " [  3.50000000e+01   4.70000000e+04]\n",
      " [  2.50000000e+01   2.20000000e+04]\n",
      " [  2.40000000e+01   2.30000000e+04]\n",
      " [  3.10000000e+01   3.40000000e+04]\n",
      " [  2.60000000e+01   1.60000000e+04]\n",
      " [  3.10000000e+01   7.10000000e+04]\n",
      " [  3.20000000e+01   1.17000000e+05]\n",
      " [  3.30000000e+01   4.30000000e+04]\n",
      " [  3.30000000e+01   6.00000000e+04]\n",
      " [  3.10000000e+01   6.60000000e+04]\n",
      " [  2.00000000e+01   8.20000000e+04]\n",
      " [  3.30000000e+01   4.10000000e+04]\n",
      " [  3.50000000e+01   7.20000000e+04]\n",
      " [  2.80000000e+01   3.20000000e+04]\n",
      " [  2.40000000e+01   8.40000000e+04]\n",
      " [  1.90000000e+01   2.60000000e+04]\n",
      " [  2.90000000e+01   4.30000000e+04]\n",
      " [  1.90000000e+01   7.00000000e+04]\n",
      " [  2.80000000e+01   8.90000000e+04]\n",
      " [  3.40000000e+01   4.30000000e+04]\n",
      " [  3.00000000e+01   7.90000000e+04]\n",
      " [  2.00000000e+01   3.60000000e+04]\n",
      " [  2.60000000e+01   8.00000000e+04]\n",
      " [  3.50000000e+01   2.20000000e+04]\n",
      " [  3.50000000e+01   3.90000000e+04]\n",
      " [  4.90000000e+01   7.40000000e+04]\n",
      " [  3.90000000e+01   1.34000000e+05]\n",
      " [  4.10000000e+01   7.10000000e+04]\n",
      " [  5.80000000e+01   1.01000000e+05]\n",
      " [  4.70000000e+01   4.70000000e+04]\n",
      " [  5.50000000e+01   1.30000000e+05]\n",
      " [  5.20000000e+01   1.14000000e+05]\n",
      " [  4.00000000e+01   1.42000000e+05]\n",
      " [  4.60000000e+01   2.20000000e+04]\n",
      " [  4.80000000e+01   9.60000000e+04]\n",
      " [  5.20000000e+01   1.50000000e+05]\n",
      " [  5.90000000e+01   4.20000000e+04]\n",
      " [  3.50000000e+01   5.80000000e+04]\n",
      " [  4.70000000e+01   4.30000000e+04]\n",
      " [  6.00000000e+01   1.08000000e+05]\n",
      " [  4.90000000e+01   6.50000000e+04]\n",
      " [  4.00000000e+01   7.80000000e+04]\n",
      " [  4.60000000e+01   9.60000000e+04]\n",
      " [  5.90000000e+01   1.43000000e+05]\n",
      " [  4.10000000e+01   8.00000000e+04]\n",
      " [  3.50000000e+01   9.10000000e+04]\n",
      " [  3.70000000e+01   1.44000000e+05]\n",
      " [  6.00000000e+01   1.02000000e+05]\n",
      " [  3.50000000e+01   6.00000000e+04]\n",
      " [  3.70000000e+01   5.30000000e+04]\n",
      " [  3.60000000e+01   1.26000000e+05]\n",
      " [  5.60000000e+01   1.33000000e+05]\n",
      " [  4.00000000e+01   7.20000000e+04]\n",
      " [  4.20000000e+01   8.00000000e+04]\n",
      " [  3.50000000e+01   1.47000000e+05]\n",
      " [  3.90000000e+01   4.20000000e+04]\n",
      " [  4.00000000e+01   1.07000000e+05]\n",
      " [  4.90000000e+01   8.60000000e+04]\n",
      " [  3.80000000e+01   1.12000000e+05]\n",
      " [  4.60000000e+01   7.90000000e+04]\n",
      " [  4.00000000e+01   5.70000000e+04]\n",
      " [  3.70000000e+01   8.00000000e+04]\n",
      " [  4.60000000e+01   8.20000000e+04]\n",
      " [  5.30000000e+01   1.43000000e+05]\n",
      " [  4.20000000e+01   1.49000000e+05]\n",
      " [  3.80000000e+01   5.90000000e+04]\n",
      " [  5.00000000e+01   8.80000000e+04]\n",
      " [  5.60000000e+01   1.04000000e+05]\n",
      " [  4.10000000e+01   7.20000000e+04]\n",
      " [  5.10000000e+01   1.46000000e+05]\n",
      " [  3.50000000e+01   5.00000000e+04]\n",
      " [  5.70000000e+01   1.22000000e+05]\n",
      " [  4.10000000e+01   5.20000000e+04]\n",
      " [  3.50000000e+01   9.70000000e+04]\n",
      " [  4.40000000e+01   3.90000000e+04]\n",
      " [  3.70000000e+01   5.20000000e+04]\n",
      " [  4.80000000e+01   1.34000000e+05]\n",
      " [  3.70000000e+01   1.46000000e+05]\n",
      " [  5.00000000e+01   4.40000000e+04]\n",
      " [  5.20000000e+01   9.00000000e+04]\n",
      " [  4.10000000e+01   7.20000000e+04]\n",
      " [  4.00000000e+01   5.70000000e+04]\n",
      " [  5.80000000e+01   9.50000000e+04]\n",
      " [  4.50000000e+01   1.31000000e+05]\n",
      " [  3.50000000e+01   7.70000000e+04]\n",
      " [  3.60000000e+01   1.44000000e+05]\n",
      " [  5.50000000e+01   1.25000000e+05]\n",
      " [  3.50000000e+01   7.20000000e+04]\n",
      " [  4.80000000e+01   9.00000000e+04]\n",
      " [  4.20000000e+01   1.08000000e+05]\n",
      " [  4.00000000e+01   7.50000000e+04]\n",
      " [  3.70000000e+01   7.40000000e+04]\n",
      " [  4.70000000e+01   1.44000000e+05]\n",
      " [  4.00000000e+01   6.10000000e+04]\n",
      " [  4.30000000e+01   1.33000000e+05]\n",
      " [  5.90000000e+01   7.60000000e+04]\n",
      " [  6.00000000e+01   4.20000000e+04]\n",
      " [  3.90000000e+01   1.06000000e+05]\n",
      " [  5.70000000e+01   2.60000000e+04]\n",
      " [  5.70000000e+01   7.40000000e+04]\n",
      " [  3.80000000e+01   7.10000000e+04]\n",
      " [  4.90000000e+01   8.80000000e+04]\n",
      " [  5.20000000e+01   3.80000000e+04]\n",
      " [  5.00000000e+01   3.60000000e+04]\n",
      " [  5.90000000e+01   8.80000000e+04]\n",
      " [  3.50000000e+01   6.10000000e+04]\n",
      " [  3.70000000e+01   7.00000000e+04]\n",
      " [  5.20000000e+01   2.10000000e+04]\n",
      " [  4.80000000e+01   1.41000000e+05]\n",
      " [  3.70000000e+01   9.30000000e+04]\n",
      " [  3.70000000e+01   6.20000000e+04]\n",
      " [  4.80000000e+01   1.38000000e+05]\n",
      " [  4.10000000e+01   7.90000000e+04]\n",
      " [  3.70000000e+01   7.80000000e+04]\n",
      " [  3.90000000e+01   1.34000000e+05]\n",
      " [  4.90000000e+01   8.90000000e+04]\n",
      " [  5.50000000e+01   3.90000000e+04]\n",
      " [  3.70000000e+01   7.70000000e+04]\n",
      " [  3.50000000e+01   5.70000000e+04]\n",
      " [  3.60000000e+01   6.30000000e+04]\n",
      " [  4.20000000e+01   7.30000000e+04]\n",
      " [  4.30000000e+01   1.12000000e+05]\n",
      " [  4.50000000e+01   7.90000000e+04]\n",
      " [  4.60000000e+01   1.17000000e+05]\n",
      " [  5.80000000e+01   3.80000000e+04]\n",
      " [  4.80000000e+01   7.40000000e+04]\n",
      " [  3.70000000e+01   1.37000000e+05]\n",
      " [  3.70000000e+01   7.90000000e+04]\n",
      " [  4.00000000e+01   6.00000000e+04]\n",
      " [  4.20000000e+01   5.40000000e+04]\n",
      " [  5.10000000e+01   1.34000000e+05]\n",
      " [  4.70000000e+01   1.13000000e+05]\n",
      " [  3.60000000e+01   1.25000000e+05]\n",
      " [  3.80000000e+01   5.00000000e+04]\n",
      " [  4.20000000e+01   7.00000000e+04]\n",
      " [  3.90000000e+01   9.60000000e+04]\n",
      " [  3.80000000e+01   5.00000000e+04]\n",
      " [  4.90000000e+01   1.41000000e+05]\n",
      " [  3.90000000e+01   7.90000000e+04]\n",
      " [  3.90000000e+01   7.50000000e+04]\n",
      " [  5.40000000e+01   1.04000000e+05]\n",
      " [  3.50000000e+01   5.50000000e+04]\n",
      " [  4.50000000e+01   3.20000000e+04]\n",
      " [  3.60000000e+01   6.00000000e+04]\n",
      " [  5.20000000e+01   1.38000000e+05]\n",
      " [  5.30000000e+01   8.20000000e+04]\n",
      " [  4.10000000e+01   5.20000000e+04]\n",
      " [  4.80000000e+01   3.00000000e+04]\n",
      " [  4.80000000e+01   1.31000000e+05]\n",
      " [  4.10000000e+01   6.00000000e+04]\n",
      " [  4.10000000e+01   7.20000000e+04]\n",
      " [  4.20000000e+01   7.50000000e+04]\n",
      " [  3.60000000e+01   1.18000000e+05]\n",
      " [  4.70000000e+01   1.07000000e+05]\n",
      " [  3.80000000e+01   5.10000000e+04]\n",
      " [  4.80000000e+01   1.19000000e+05]\n",
      " [  4.20000000e+01   6.50000000e+04]\n",
      " [  4.00000000e+01   6.50000000e+04]\n",
      " [  5.70000000e+01   6.00000000e+04]\n",
      " [  3.60000000e+01   5.40000000e+04]\n",
      " [  5.80000000e+01   1.44000000e+05]\n",
      " [  3.50000000e+01   7.90000000e+04]\n",
      " [  3.80000000e+01   5.50000000e+04]\n",
      " [  3.90000000e+01   1.22000000e+05]\n",
      " [  5.30000000e+01   1.04000000e+05]\n",
      " [  3.50000000e+01   7.50000000e+04]\n",
      " [  3.80000000e+01   6.50000000e+04]\n",
      " [  4.70000000e+01   5.10000000e+04]\n",
      " [  4.70000000e+01   1.05000000e+05]\n",
      " [  4.10000000e+01   6.30000000e+04]\n",
      " [  5.30000000e+01   7.20000000e+04]\n",
      " [  5.40000000e+01   1.08000000e+05]\n",
      " [  3.90000000e+01   7.70000000e+04]\n",
      " [  3.80000000e+01   6.10000000e+04]\n",
      " [  3.80000000e+01   1.13000000e+05]\n",
      " [  3.70000000e+01   7.50000000e+04]\n",
      " [  4.20000000e+01   9.00000000e+04]\n",
      " [  3.70000000e+01   5.70000000e+04]\n",
      " [  3.60000000e+01   9.90000000e+04]\n",
      " [  6.00000000e+01   3.40000000e+04]\n",
      " [  5.40000000e+01   7.00000000e+04]\n",
      " [  4.10000000e+01   7.20000000e+04]\n",
      " [  4.00000000e+01   7.10000000e+04]\n",
      " [  4.20000000e+01   5.40000000e+04]\n",
      " [  4.30000000e+01   1.29000000e+05]\n",
      " [  5.30000000e+01   3.40000000e+04]\n",
      " [  4.70000000e+01   5.00000000e+04]\n",
      " [  4.20000000e+01   7.90000000e+04]\n",
      " [  4.20000000e+01   1.04000000e+05]\n",
      " [  5.90000000e+01   2.90000000e+04]\n",
      " [  5.80000000e+01   4.70000000e+04]\n",
      " [  4.60000000e+01   8.80000000e+04]\n",
      " [  3.80000000e+01   7.10000000e+04]\n",
      " [  5.40000000e+01   2.60000000e+04]\n",
      " [  6.00000000e+01   4.60000000e+04]\n",
      " [  6.00000000e+01   8.30000000e+04]\n",
      " [  3.90000000e+01   7.30000000e+04]\n",
      " [  5.90000000e+01   1.30000000e+05]\n",
      " [  3.70000000e+01   8.00000000e+04]\n",
      " [  4.60000000e+01   3.20000000e+04]\n",
      " [  4.60000000e+01   7.40000000e+04]\n",
      " [  4.20000000e+01   5.30000000e+04]\n",
      " [  4.10000000e+01   8.70000000e+04]\n",
      " [  5.80000000e+01   2.30000000e+04]\n",
      " [  4.20000000e+01   6.40000000e+04]\n",
      " [  4.80000000e+01   3.30000000e+04]\n",
      " [  4.40000000e+01   1.39000000e+05]\n",
      " [  4.90000000e+01   2.80000000e+04]\n",
      " [  5.70000000e+01   3.30000000e+04]\n",
      " [  5.60000000e+01   6.00000000e+04]\n",
      " [  4.90000000e+01   3.90000000e+04]\n",
      " [  3.90000000e+01   7.10000000e+04]\n",
      " [  4.70000000e+01   3.40000000e+04]\n",
      " [  4.80000000e+01   3.50000000e+04]\n",
      " [  4.80000000e+01   3.30000000e+04]\n",
      " [  4.70000000e+01   2.30000000e+04]\n",
      " [  4.50000000e+01   4.50000000e+04]\n",
      " [  6.00000000e+01   4.20000000e+04]\n",
      " [  3.90000000e+01   5.90000000e+04]\n",
      " [  4.60000000e+01   4.10000000e+04]\n",
      " [  5.10000000e+01   2.30000000e+04]\n",
      " [  5.00000000e+01   2.00000000e+04]\n",
      " [  3.60000000e+01   3.30000000e+04]\n",
      " [  4.90000000e+01   3.60000000e+04]]\n"
     ]
    }
   ],
   "source": [
    "print (X)"
   ]
  },
  {
   "cell_type": "code",
   "execution_count": 5,
   "metadata": {
    "scrolled": false
   },
   "outputs": [
    {
     "name": "stdout",
     "output_type": "stream",
     "text": [
      "[0 0 0 0 0 0 0 1 0 0 0 0 0 0 0 0 1 1 1 1 1 1 1 1 1 1 1 1 0 0 0 1 0 0 0 0 0\n",
      " 0 0 0 0 0 0 0 0 0 0 0 1 0 0 0 0 0 0 0 0 0 0 0 0 0 0 1 0 0 0 0 0 0 0 0 0 0\n",
      " 0 1 0 0 0 0 0 0 0 0 0 1 0 0 0 0 0 0 0 0 0 0 0 1 0 0 0 0 0 1 0 0 0 0 0 0 0\n",
      " 0 0 0 0 0 0 0 0 0 0 0 0 0 0 0 0 0 0 0 0 0 0 0 0 0 0 1 0 0 0 0 0 0 0 0 1 0\n",
      " 0 0 0 0 0 0 0 0 0 0 0 1 1 0 0 0 0 0 0 0 1 0 0 0 0 0 0 0 0 0 0 0 0 0 1 0 0\n",
      " 0 0 0 0 0 0 0 0 0 0 0 0 0 0 0 0 0 1 0 1 0 1 0 1 0 1 1 0 0 0 1 0 0 0 1 0 1\n",
      " 1 1 0 0 1 1 0 1 1 0 1 1 0 1 0 0 0 1 1 0 1 1 0 1 0 1 0 1 0 0 1 1 0 1 0 0 1\n",
      " 1 0 1 1 0 1 1 0 0 1 0 0 1 1 1 1 1 0 1 1 1 1 0 1 1 0 1 0 1 0 1 1 1 1 0 0 0\n",
      " 1 1 0 1 1 1 1 1 0 0 0 1 1 0 0 1 0 1 0 1 1 0 1 0 1 1 0 1 1 0 0 0 1 1 0 1 0\n",
      " 0 1 0 1 0 0 1 1 0 0 1 1 0 1 1 0 0 1 0 1 0 1 1 1 0 1 0 1 1 1 0 1 1 1 1 0 1\n",
      " 1 1 0 1 0 1 0 0 1 1 0 1 1 1 1 1 1 0 1 1 1 1 1 1 0 1 1 1 0 1]\n"
     ]
    }
   ],
   "source": [
    "print(y)"
   ]
  },
  {
   "cell_type": "markdown",
   "metadata": {},
   "source": [
    "# 切分訓練集與測試集"
   ]
  },
  {
   "cell_type": "markdown",
   "metadata": {},
   "source": [
    "train_test_split是交叉驗證中常用的函數，功能是從樣本中隨機的按比例選取train data和testdata，形式為：</br>\n",
    "* X_train，X_test，y_train，y_test =train_test_split（train_data，train_target，test_size = 0.4，random_state = 0）</br>\n",
    "\n",
    "參數解釋：\n",
    "* train_data：所要劃分的樣本特徵集</br>\n",
    "* train_target：所要劃分的樣本結果</br>\n",
    "* test_size：樣本佔比，如果是整數的話就是樣本的數量</br>\n",
    "* random_state：是隨機數的種子。</br>\n",
    "(隨機數種子：其實就是該組隨機數的編號，在需要重複試驗的時候，保證得到一組一樣的隨機數。)"
   ]
  },
  {
   "cell_type": "code",
   "execution_count": 6,
   "metadata": {
    "collapsed": true
   },
   "outputs": [],
   "source": [
    "# Splitting the dataset into the Training set and Test set\n",
    "from sklearn.model_selection import train_test_split\n",
    "X_train, X_test, y_train, y_test = train_test_split(X, y, test_size = 0.25, random_state = 0)"
   ]
  },
  {
   "cell_type": "markdown",
   "metadata": {},
   "source": [
    "# 標準化"
   ]
  },
  {
   "cell_type": "code",
   "execution_count": 7,
   "metadata": {
    "collapsed": true
   },
   "outputs": [],
   "source": [
    "# Feature Scaling\n",
    "from sklearn.preprocessing import StandardScaler\n",
    "sc = StandardScaler()\n",
    "X_train = sc.fit_transform(X_train)\n",
    "X_test = sc.transform(X_test)"
   ]
  },
  {
   "cell_type": "markdown",
   "metadata": {
    "collapsed": true
   },
   "source": [
    "# 分類模型"
   ]
  },
  {
   "cell_type": "code",
   "execution_count": 8,
   "metadata": {},
   "outputs": [
    {
     "data": {
      "text/plain": [
       "SVC(C=1.0, cache_size=200, class_weight=None, coef0=0.0,\n",
       "  decision_function_shape=None, degree=3, gamma='auto', kernel='rbf',\n",
       "  max_iter=-1, probability=False, random_state=0, shrinking=True,\n",
       "  tol=0.001, verbose=False)"
      ]
     },
     "execution_count": 8,
     "metadata": {},
     "output_type": "execute_result"
    }
   ],
   "source": [
    "# Fitting Kernel SVM to the Training set\n",
    "from sklearn.svm import SVC\n",
    "classifier = SVC(kernel = 'rbf', random_state = 0)\n",
    "classifier.fit(X_train, y_train)"
   ]
  },
  {
   "cell_type": "markdown",
   "metadata": {},
   "source": [
    "# 預測測試集結果"
   ]
  },
  {
   "cell_type": "code",
   "execution_count": 9,
   "metadata": {
    "collapsed": true
   },
   "outputs": [],
   "source": [
    "# Predicting the Test set results\n",
    "y_pred = classifier.predict(X_test)"
   ]
  },
  {
   "cell_type": "markdown",
   "metadata": {},
   "source": [
    "# 建立Confusion Matrix"
   ]
  },
  {
   "cell_type": "code",
   "execution_count": 10,
   "metadata": {
    "collapsed": true
   },
   "outputs": [],
   "source": [
    "# Making the Confusion Matrix\n",
    "from sklearn.metrics import confusion_matrix\n",
    "cm = confusion_matrix(y_test, y_pred)"
   ]
  },
  {
   "cell_type": "markdown",
   "metadata": {},
   "source": [
    "# k-Fold Cross Validation"
   ]
  },
  {
   "cell_type": "markdown",
   "metadata": {},
   "source": [
    "cross_validation.cross_val_score(clf, raw_data, raw_target, cv=5, score_func=None)</br>\n",
    "\n",
    "參數解釋：</br>\n",
    "* clf：表示的是不同的分類器，可以是任何的分類器。比如支持向量機分類器.clf = svm.SVC（kernel ='linear'，C = 1）;</br>\n",
    "* raw_data：原始數據;</br>\n",
    "* raw_target：原始類別標號;</br>\n",
    "* 當如果CV是一個INT數字的話，那麼默認使用的是KFold或者StratifiedKFold交叉，如果如果指定了類別標籤則使用的是StratifiedKFold。</br>\n",
    "* cross_val_score：這個函數的返回值就是對於每次不同的的劃分raw_data時，在TEST_DATA上得到的分類的準確率至於準確率的算法可以通過score_func參數指定，如果不指定的話，是用CLF默認自帶的準確率算法。</br>"
   ]
  },
  {
   "cell_type": "code",
   "execution_count": 13,
   "metadata": {},
   "outputs": [],
   "source": [
    "# Applying k-Fold Cross Validation\n",
    "from sklearn.model_selection import cross_val_score\n",
    "accuracies = cross_val_score(estimator = classifier, X = X_train, y = y_train, cv = 10)"
   ]
  },
  {
   "cell_type": "code",
   "execution_count": 20,
   "metadata": {},
   "outputs": [
    {
     "data": {
      "text/plain": [
       "array([ 0.80645161,  0.96666667,  0.8       ,  0.93333333,  0.9       ,\n",
       "        0.83333333,  0.93333333,  0.93333333,  0.96666667,  0.96551724])"
      ]
     },
     "execution_count": 20,
     "metadata": {},
     "output_type": "execute_result"
    }
   ],
   "source": [
    "accuracies"
   ]
  },
  {
   "cell_type": "code",
   "execution_count": 14,
   "metadata": {},
   "outputs": [
    {
     "data": {
      "text/plain": [
       "0.90053021876158679"
      ]
     },
     "execution_count": 14,
     "metadata": {},
     "output_type": "execute_result"
    }
   ],
   "source": [
    "accuracies.mean()"
   ]
  },
  {
   "cell_type": "code",
   "execution_count": 15,
   "metadata": {},
   "outputs": [
    {
     "data": {
      "text/plain": [
       "0.063889573566262847"
      ]
     },
     "execution_count": 15,
     "metadata": {},
     "output_type": "execute_result"
    }
   ],
   "source": [
    "accuracies.std()"
   ]
  },
  {
   "cell_type": "markdown",
   "metadata": {},
   "source": [
    "# Grid Search"
   ]
  },
  {
   "cell_type": "markdown",
   "metadata": {},
   "source": [
    "* 備選的參數搭配有下面兩組，並分別設定一定的候選值："
   ]
  },
  {
   "cell_type": "code",
   "execution_count": 16,
   "metadata": {
    "collapsed": true
   },
   "outputs": [],
   "source": [
    "# Applying Grid Search to find the best model and the best parameters\n",
    "from sklearn.model_selection import GridSearchCV\n",
    "parameters = [{'C': [1, 10, 100, 1000], 'kernel': ['linear']},\n",
    "              {'C': [1, 10, 100, 1000], 'kernel': ['rbf'], 'gamma': [0.1, 0.2, 0.3, 0.4, 0.5, 0.6, 0.7, 0.8, 0.9]}]\n"
   ]
  },
  {
   "cell_type": "markdown",
   "metadata": {},
   "source": [
    "* classsklearn.model_selection.GridSearchCV(estimator,param_grid, scoring=None, fit_params=None, n_jobs=1, iid=True, refit=True,cv=None, verbose=0, pre_dispatch='2*n_jobs', error_score='raise ',return_train_score=True)</br>\n",
    " \n",
    "常用參數解讀</br>\n",
    "* estimator：所使用的分類器，如estimator=RandomForestClassifier(min_samples_split=100,min_samples_leaf=20,max_depth=8,max_features='sqrt',random_state=10), 並且傳入除需要確定最佳的參數之外的其他參數。每一個分類器都需要一個scoring參數，或者score方法。</br>\n",
    "* param_grid：值為字典或者列表，即需要最優化的參數的取值，param_grid =param_test1，param_test1 = {'n_estimators':range(10,71,10)}。</br>\n",
    "* scoring :準確度評價標準，默認None,這時需要使用score函數；或者如scoring='roc_auc'，根據所選模型不同，評價準則不同。字符串（函數名），或是可調用對象，需要其函數簽名形如：scorer(estimator, X, y)；如果是None，則使用estimator的誤差估計函數。</br>\n",
    "* cv :交叉驗證參數，默認None，使用三折交叉驗證。指定fold數量，默認為3，也可以是yield訓練/測試數據的生成器。</br>\n",
    "* refit :默認為True,程序將會以交叉驗證訓練集得到的最佳參數，重新對所有可用的訓練集與開發集進行，作為最終用於性能評估的最佳模型參數。即在搜索參數結束後，用最佳參數結果再次fit一遍全部數據集。</br>\n",
    "* iid:默認True,為True時，默認為各個樣本fold概率分佈一致，誤差估計為所有樣本之和，而非各個fold的平均。</br>\n",
    "* verbose：日誌冗長度，int：冗長度，0：不輸出訓練過程，1：偶爾輸出，>1：對每個子模型都輸出。</br>\n",
    "* n_jobs: 並行數，int：個數,-1：跟CPU核數一致, 1:默認值。</br>\n",
    "* pre_dispatch：指定總共分發的並行任務數。當n_jobs大於1時，數據將在每個運行點進行複制，這可能導致OOM，而設置pre_dispatch參數，則可以預先劃分總共的job數量，使數據最多被複製pre_dispatch次</br>\n",
    "\n",
    "進行預測的常用方法和屬性</br>\n",
    "* grid.fit()：運行網格搜索</br>\n",
    "* grid_scores_：給出不同參數情況下的評價結果</br>\n",
    "* best_params_：描述了已取得最佳結果的參數的組合</br>\n",
    "* best_score_：成員提供優化過程期間觀察到的最好的評分</br>"
   ]
  },
  {
   "cell_type": "code",
   "execution_count": 17,
   "metadata": {
    "collapsed": true
   },
   "outputs": [],
   "source": [
    "grid_search = GridSearchCV(estimator = classifier,\n",
    "                           param_grid = parameters,\n",
    "                           scoring = 'accuracy',\n",
    "                           cv = 10,\n",
    "                           n_jobs = -1)\n",
    "grid_search = grid_search.fit(X_train, y_train)\n",
    "best_accuracy = grid_search.best_score_\n",
    "best_parameters = grid_search.best_params_"
   ]
  },
  {
   "cell_type": "code",
   "execution_count": 18,
   "metadata": {},
   "outputs": [
    {
     "data": {
      "text/plain": [
       "0.90333333333333332"
      ]
     },
     "execution_count": 18,
     "metadata": {},
     "output_type": "execute_result"
    }
   ],
   "source": [
    "best_accuracy"
   ]
  },
  {
   "cell_type": "code",
   "execution_count": 19,
   "metadata": {
    "scrolled": true
   },
   "outputs": [
    {
     "data": {
      "text/plain": [
       "{'C': 1, 'gamma': 0.7, 'kernel': 'rbf'}"
      ]
     },
     "execution_count": 19,
     "metadata": {},
     "output_type": "execute_result"
    }
   ],
   "source": [
    "best_parameters"
   ]
  },
  {
   "cell_type": "code",
   "execution_count": 11,
   "metadata": {},
   "outputs": [
    {
     "data": {
      "image/png": "[encoded data removed]",
      "text/plain": [
       "<matplotlib.figure.Figure at 0x1106b1da0>"
      ]
     },
     "metadata": {},
     "output_type": "display_data"
    }
   ],
   "source": [
    "# Visualising the Training set results\n",
    "from matplotlib.colors import ListedColormap\n",
    "X_set, y_set = X_train, y_train\n",
    "X1, X2 = np.meshgrid(np.arange(start = X_set[:, 0].min() - 1, stop = X_set[:, 0].max() + 1, step = 0.01),\n",
    "                     np.arange(start = X_set[:, 1].min() - 1, stop = X_set[:, 1].max() + 1, step = 0.01))\n",
    "plt.contourf(X1, X2, classifier.predict(np.array([X1.ravel(), X2.ravel()]).T).reshape(X1.shape),\n",
    "             alpha = 0.75, cmap = ListedColormap(('red', 'green')))\n",
    "plt.xlim(X1.min(), X1.max())\n",
    "plt.ylim(X2.min(), X2.max())\n",
    "for i, j in enumerate(np.unique(y_set)):\n",
    "    plt.scatter(X_set[y_set == j, 0], X_set[y_set == j, 1],\n",
    "                c = ListedColormap(('red', 'green'))(i), label = j)\n",
    "plt.title('Kernel SVM (Training set)')\n",
    "plt.xlabel('Age')\n",
    "plt.ylabel('Estimated Salary')\n",
    "plt.legend()\n",
    "plt.show()"
   ]
  },
  {
   "cell_type": "code",
   "execution_count": 12,
   "metadata": {},
   "outputs": [
    {
     "data": {
      "image/png": "[encoded data removed]",
      "text/plain": [
       "<matplotlib.figure.Figure at 0x1106b1f98>"
      ]
     },
     "metadata": {},
     "output_type": "display_data"
    }
   ],
   "source": [
    "# Visualising the Test set results\n",
    "from matplotlib.colors import ListedColormap\n",
    "X_set, y_set = X_test, y_test\n",
    "X1, X2 = np.meshgrid(np.arange(start = X_set[:, 0].min() - 1, stop = X_set[:, 0].max() + 1, step = 0.01),\n",
    "                     np.arange(start = X_set[:, 1].min() - 1, stop = X_set[:, 1].max() + 1, step = 0.01))\n",
    "plt.contourf(X1, X2, classifier.predict(np.array([X1.ravel(), X2.ravel()]).T).reshape(X1.shape),\n",
    "             alpha = 0.75, cmap = ListedColormap(('red', 'green')))\n",
    "plt.xlim(X1.min(), X1.max())\n",
    "plt.ylim(X2.min(), X2.max())\n",
    "for i, j in enumerate(np.unique(y_set)):\n",
    "    plt.scatter(X_set[y_set == j, 0], X_set[y_set == j, 1],\n",
    "                c = ListedColormap(('red', 'green'))(i), label = j)\n",
    "plt.title('Kernel SVM (Test set)')\n",
    "plt.xlabel('Age')\n",
    "plt.ylabel('Estimated Salary')\n",
    "plt.legend()\n",
    "plt.show()"
   ]
  },
  {
   "cell_type": "code",
   "execution_count": null,
   "metadata": {
    "collapsed": true
   },
   "outputs": [],
   "source": []
  }
 ],
 "metadata": {
  "kernelspec": {
   "display_name": "Python 3",
   "language": "python",
   "name": "python3"
  },
  "language_info": {
   "codemirror_mode": {
    "name": "ipython",
    "version": 3
   },
   "file_extension": ".py",
   "mimetype": "text/x-python",
   "name": "python",
   "nbconvert_exporter": "python",
   "pygments_lexer": "ipython3",
   "version": "3.6.1"
  }
 },
 "nbformat": 4,
 "nbformat_minor": 2
}
